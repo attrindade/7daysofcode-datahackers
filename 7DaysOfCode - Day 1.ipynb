{
 "cells": [
  {
   "cell_type": "markdown",
   "metadata": {},
   "source": [
    "# DataHacker's 7DaysOfCode - Day 1\n",
    "\n",
    "This exercise is focused on cleaning data.\n",
    "\n",
    "*On this first day, I propose you to download a dataset from the CEAPS portal (Quotation for the Exercise of Parliamentary Activity of Senators) and apply data processing and cleaning processes to it (a process known as Data Wrangling).*\n",
    "\n",
    "_The CEAPS data contains a number of issues that can make it difficult to create more in-depth analyses_.\n",
    "\n",
    "_One of the first things you can do is identify such inconsistencies such as fields that have null or duplicate values, convert date fields that are being loaded as text, correct monetary values, misspelled names, format CNPJ fields, etc_.\n",
    "\n",
    "___How about joining data from several years into a large dataset and applying data cleaning and processing techniques? You could take data from the last four years and apply what you used in this exercise___."
   ]
  },
  {
   "cell_type": "markdown",
   "metadata": {},
   "source": [
    "[CEAPS 2021 CSV](https://www.senado.gov.br/transparencia/LAI/verba/despesa_ceaps_2021.csv) | \n",
    "[CEAPS 2020 CSV](https://www.senado.gov.br/transparencia/LAI/verba/despesa_ceaps_2020.csv) | \n",
    "[CEAPS 2019 CSV](https://www.senado.gov.br/transparencia/LAI/verba/despesa_ceaps_2019.csv) | \n",
    "[CEAPS 2018 CSV](https://www.senado.gov.br/transparencia/LAI/verba/despesa_ceaps_2018.csv)\n",
    "\n",
    "All of them were downloaded, converted from ANSI to UTF-8 and moved to the repository."
   ]
  },
  {
   "cell_type": "code",
   "execution_count": 111,
   "metadata": {},
   "outputs": [],
   "source": [
    "import pandas as pd\n",
    "import numpy as np"
   ]
  },
  {
   "cell_type": "code",
   "execution_count": 112,
   "metadata": {},
   "outputs": [
    {
     "data": {
      "text/plain": [
       "['ceaps2018.csv', 'ceaps2019.csv', 'ceaps2020.csv', 'ceaps2021.csv']"
      ]
     },
     "execution_count": 112,
     "metadata": {},
     "output_type": "execute_result"
    }
   ],
   "source": [
    "path_list = []\n",
    "for year in range(2018,2022):\n",
    "    path = f\"ceaps{year}.csv\"\n",
    "    path_list.append(path)\n",
    "path_list"
   ]
  },
  {
   "cell_type": "code",
   "execution_count": 113,
   "metadata": {},
   "outputs": [],
   "source": [
    "df_list = []\n",
    "for path in path_list:\n",
    "    df = pd.read_csv(path,sep=';',header=0,skiprows=[0])\n",
    "    df_list.append(df)\n",
    "ceaps = pd.concat(df_list,axis=0,ignore_index=True)"
   ]
  },
  {
   "cell_type": "code",
   "execution_count": 114,
   "metadata": {},
   "outputs": [
    {
     "data": {
      "text/html": [
       "<div>\n",
       "<style scoped>\n",
       "    .dataframe tbody tr th:only-of-type {\n",
       "        vertical-align: middle;\n",
       "    }\n",
       "\n",
       "    .dataframe tbody tr th {\n",
       "        vertical-align: top;\n",
       "    }\n",
       "\n",
       "    .dataframe thead th {\n",
       "        text-align: right;\n",
       "    }\n",
       "</style>\n",
       "<table border=\"1\" class=\"dataframe\">\n",
       "  <thead>\n",
       "    <tr style=\"text-align: right;\">\n",
       "      <th></th>\n",
       "      <th>ANO</th>\n",
       "      <th>MES</th>\n",
       "      <th>SENADOR</th>\n",
       "      <th>TIPO_DESPESA</th>\n",
       "      <th>CNPJ_CPF</th>\n",
       "      <th>FORNECEDOR</th>\n",
       "      <th>DOCUMENTO</th>\n",
       "      <th>DATA</th>\n",
       "      <th>DETALHAMENTO</th>\n",
       "      <th>VALOR_REEMBOLSADO</th>\n",
       "      <th>COD_DOCUMENTO</th>\n",
       "    </tr>\n",
       "  </thead>\n",
       "  <tbody>\n",
       "    <tr>\n",
       "      <th>0</th>\n",
       "      <td>2018</td>\n",
       "      <td>1</td>\n",
       "      <td>ACIR GURGACZ</td>\n",
       "      <td>Aluguel de imóveis para escritório político, c...</td>\n",
       "      <td>004.948.028-63</td>\n",
       "      <td>GILBERTO PISELO DO NASCIMENTO</td>\n",
       "      <td>NaN</td>\n",
       "      <td>2/1/18</td>\n",
       "      <td>Despesa com pagamento de aluguel de imóvel par...</td>\n",
       "      <td>6000</td>\n",
       "      <td>2088462</td>\n",
       "    </tr>\n",
       "    <tr>\n",
       "      <th>1</th>\n",
       "      <td>2018</td>\n",
       "      <td>1</td>\n",
       "      <td>ACIR GURGACZ</td>\n",
       "      <td>Passagens aéreas, aquáticas e terrestres nacio...</td>\n",
       "      <td>63.764.211/0001-10</td>\n",
       "      <td>TRANSCONTINENTAL AGÊNCIA DE VIAGENS LTDA</td>\n",
       "      <td>M2CJMM</td>\n",
       "      <td>2/1/18</td>\n",
       "      <td>Companhia Aérea: AVIANCA, Localizador: M2CJMM....</td>\n",
       "      <td>274,99</td>\n",
       "      <td>2088476</td>\n",
       "    </tr>\n",
       "    <tr>\n",
       "      <th>2</th>\n",
       "      <td>2018</td>\n",
       "      <td>1</td>\n",
       "      <td>ACIR GURGACZ</td>\n",
       "      <td>Passagens aéreas, aquáticas e terrestres nacio...</td>\n",
       "      <td>63.764.211/0001-10</td>\n",
       "      <td>TRANSCONTINENTAL AGÊNCIA DE VIAGENS LTDA</td>\n",
       "      <td>SFEXYF</td>\n",
       "      <td>2/1/18</td>\n",
       "      <td>Companhia Aérea: LATAM, Localizador: SFEXYF. P...</td>\n",
       "      <td>1094,29</td>\n",
       "      <td>2088528</td>\n",
       "    </tr>\n",
       "    <tr>\n",
       "      <th>3</th>\n",
       "      <td>2018</td>\n",
       "      <td>1</td>\n",
       "      <td>ACIR GURGACZ</td>\n",
       "      <td>Passagens aéreas, aquáticas e terrestres nacio...</td>\n",
       "      <td>63.764.211/0001-10</td>\n",
       "      <td>TRANSCONTINENTAL AGÊNCIA DE VIAGENS LTDA</td>\n",
       "      <td>V64HTR</td>\n",
       "      <td>24/1/18</td>\n",
       "      <td>Companhia Aérea: AZUL, Localizador: V64HTR. Pa...</td>\n",
       "      <td>1553,99</td>\n",
       "      <td>2088475</td>\n",
       "    </tr>\n",
       "    <tr>\n",
       "      <th>4</th>\n",
       "      <td>2018</td>\n",
       "      <td>2</td>\n",
       "      <td>ACIR GURGACZ</td>\n",
       "      <td>Aluguel de imóveis para escritório político, c...</td>\n",
       "      <td>004.948.028-63</td>\n",
       "      <td>GILBERTO PISELO DO NASCIMENTO</td>\n",
       "      <td>002/18</td>\n",
       "      <td>1/2/18</td>\n",
       "      <td>Despesa com pagamento de aluguel de imóvel par...</td>\n",
       "      <td>6000</td>\n",
       "      <td>2088477</td>\n",
       "    </tr>\n",
       "    <tr>\n",
       "      <th>...</th>\n",
       "      <td>...</td>\n",
       "      <td>...</td>\n",
       "      <td>...</td>\n",
       "      <td>...</td>\n",
       "      <td>...</td>\n",
       "      <td>...</td>\n",
       "      <td>...</td>\n",
       "      <td>...</td>\n",
       "      <td>...</td>\n",
       "      <td>...</td>\n",
       "      <td>...</td>\n",
       "    </tr>\n",
       "    <tr>\n",
       "      <th>77019</th>\n",
       "      <td>2021</td>\n",
       "      <td>12</td>\n",
       "      <td>ZEQUINHA MARINHO</td>\n",
       "      <td>Passagens aéreas, aquáticas e terrestres nacio...</td>\n",
       "      <td>22.052.777/0001-32</td>\n",
       "      <td>Exceller Tour</td>\n",
       "      <td>GDAONA</td>\n",
       "      <td>01/12/2021</td>\n",
       "      <td>Companhia Aérea: GOL, Localizador: GDAONA. Pas...</td>\n",
       "      <td>1715,45</td>\n",
       "      <td>2170983</td>\n",
       "    </tr>\n",
       "    <tr>\n",
       "      <th>77020</th>\n",
       "      <td>2021</td>\n",
       "      <td>12</td>\n",
       "      <td>ZEQUINHA MARINHO</td>\n",
       "      <td>Passagens aéreas, aquáticas e terrestres nacio...</td>\n",
       "      <td>22.052.777/0001-32</td>\n",
       "      <td>Exceller Tour</td>\n",
       "      <td>JFQVZP</td>\n",
       "      <td>15/12/2021</td>\n",
       "      <td>Companhia Aérea: LATAM, Localizador: JFQVZP. P...</td>\n",
       "      <td>2489,29</td>\n",
       "      <td>2172263</td>\n",
       "    </tr>\n",
       "    <tr>\n",
       "      <th>77021</th>\n",
       "      <td>2021</td>\n",
       "      <td>12</td>\n",
       "      <td>ZEQUINHA MARINHO</td>\n",
       "      <td>Passagens aéreas, aquáticas e terrestres nacio...</td>\n",
       "      <td>22.052.777/0001-32</td>\n",
       "      <td>Exceller Tour</td>\n",
       "      <td>SSKEOB</td>\n",
       "      <td>17/12/2021</td>\n",
       "      <td>Companhia Aérea: GOL, Localizador: SSKEOB. Pas...</td>\n",
       "      <td>1486,66</td>\n",
       "      <td>2172717</td>\n",
       "    </tr>\n",
       "    <tr>\n",
       "      <th>77022</th>\n",
       "      <td>2021</td>\n",
       "      <td>12</td>\n",
       "      <td>ZEQUINHA MARINHO</td>\n",
       "      <td>Passagens aéreas, aquáticas e terrestres nacio...</td>\n",
       "      <td>22.052.777/0001-32</td>\n",
       "      <td>Exceller Tour</td>\n",
       "      <td>ZICCEX</td>\n",
       "      <td>27/12/2021</td>\n",
       "      <td>Companhia Aérea: LATAM, Localizador: ZICCEX. P...</td>\n",
       "      <td>2515,56</td>\n",
       "      <td>2173239</td>\n",
       "    </tr>\n",
       "    <tr>\n",
       "      <th>77023</th>\n",
       "      <td>2021</td>\n",
       "      <td>12</td>\n",
       "      <td>ZEQUINHA MARINHO</td>\n",
       "      <td>Passagens aéreas, aquáticas e terrestres nacio...</td>\n",
       "      <td>22.052.777/0001-32</td>\n",
       "      <td>Exceller Tour</td>\n",
       "      <td>LM6FSK</td>\n",
       "      <td>29/12/2021</td>\n",
       "      <td>Companhia Aérea: AZUL, Localizador: LM6FSK. Pa...</td>\n",
       "      <td>1510,75</td>\n",
       "      <td>2173238</td>\n",
       "    </tr>\n",
       "  </tbody>\n",
       "</table>\n",
       "<p>77024 rows × 11 columns</p>\n",
       "</div>"
      ],
      "text/plain": [
       "        ANO  MES           SENADOR  \\\n",
       "0      2018    1      ACIR GURGACZ   \n",
       "1      2018    1      ACIR GURGACZ   \n",
       "2      2018    1      ACIR GURGACZ   \n",
       "3      2018    1      ACIR GURGACZ   \n",
       "4      2018    2      ACIR GURGACZ   \n",
       "...     ...  ...               ...   \n",
       "77019  2021   12  ZEQUINHA MARINHO   \n",
       "77020  2021   12  ZEQUINHA MARINHO   \n",
       "77021  2021   12  ZEQUINHA MARINHO   \n",
       "77022  2021   12  ZEQUINHA MARINHO   \n",
       "77023  2021   12  ZEQUINHA MARINHO   \n",
       "\n",
       "                                            TIPO_DESPESA            CNPJ_CPF  \\\n",
       "0      Aluguel de imóveis para escritório político, c...      004.948.028-63   \n",
       "1      Passagens aéreas, aquáticas e terrestres nacio...  63.764.211/0001-10   \n",
       "2      Passagens aéreas, aquáticas e terrestres nacio...  63.764.211/0001-10   \n",
       "3      Passagens aéreas, aquáticas e terrestres nacio...  63.764.211/0001-10   \n",
       "4      Aluguel de imóveis para escritório político, c...      004.948.028-63   \n",
       "...                                                  ...                 ...   \n",
       "77019  Passagens aéreas, aquáticas e terrestres nacio...  22.052.777/0001-32   \n",
       "77020  Passagens aéreas, aquáticas e terrestres nacio...  22.052.777/0001-32   \n",
       "77021  Passagens aéreas, aquáticas e terrestres nacio...  22.052.777/0001-32   \n",
       "77022  Passagens aéreas, aquáticas e terrestres nacio...  22.052.777/0001-32   \n",
       "77023  Passagens aéreas, aquáticas e terrestres nacio...  22.052.777/0001-32   \n",
       "\n",
       "                                     FORNECEDOR DOCUMENTO        DATA  \\\n",
       "0                 GILBERTO PISELO DO NASCIMENTO       NaN      2/1/18   \n",
       "1      TRANSCONTINENTAL AGÊNCIA DE VIAGENS LTDA    M2CJMM      2/1/18   \n",
       "2      TRANSCONTINENTAL AGÊNCIA DE VIAGENS LTDA    SFEXYF      2/1/18   \n",
       "3      TRANSCONTINENTAL AGÊNCIA DE VIAGENS LTDA    V64HTR     24/1/18   \n",
       "4                 GILBERTO PISELO DO NASCIMENTO    002/18      1/2/18   \n",
       "...                                         ...       ...         ...   \n",
       "77019                             Exceller Tour    GDAONA  01/12/2021   \n",
       "77020                             Exceller Tour    JFQVZP  15/12/2021   \n",
       "77021                             Exceller Tour    SSKEOB  17/12/2021   \n",
       "77022                             Exceller Tour    ZICCEX  27/12/2021   \n",
       "77023                             Exceller Tour    LM6FSK  29/12/2021   \n",
       "\n",
       "                                            DETALHAMENTO VALOR_REEMBOLSADO  \\\n",
       "0      Despesa com pagamento de aluguel de imóvel par...              6000   \n",
       "1      Companhia Aérea: AVIANCA, Localizador: M2CJMM....            274,99   \n",
       "2      Companhia Aérea: LATAM, Localizador: SFEXYF. P...           1094,29   \n",
       "3      Companhia Aérea: AZUL, Localizador: V64HTR. Pa...           1553,99   \n",
       "4      Despesa com pagamento de aluguel de imóvel par...              6000   \n",
       "...                                                  ...               ...   \n",
       "77019  Companhia Aérea: GOL, Localizador: GDAONA. Pas...           1715,45   \n",
       "77020  Companhia Aérea: LATAM, Localizador: JFQVZP. P...           2489,29   \n",
       "77021  Companhia Aérea: GOL, Localizador: SSKEOB. Pas...           1486,66   \n",
       "77022  Companhia Aérea: LATAM, Localizador: ZICCEX. P...           2515,56   \n",
       "77023  Companhia Aérea: AZUL, Localizador: LM6FSK. Pa...           1510,75   \n",
       "\n",
       "       COD_DOCUMENTO  \n",
       "0            2088462  \n",
       "1            2088476  \n",
       "2            2088528  \n",
       "3            2088475  \n",
       "4            2088477  \n",
       "...              ...  \n",
       "77019        2170983  \n",
       "77020        2172263  \n",
       "77021        2172717  \n",
       "77022        2173239  \n",
       "77023        2173238  \n",
       "\n",
       "[77024 rows x 11 columns]"
      ]
     },
     "execution_count": 114,
     "metadata": {},
     "output_type": "execute_result"
    }
   ],
   "source": [
    "ceaps"
   ]
  },
  {
   "cell_type": "code",
   "execution_count": 115,
   "metadata": {},
   "outputs": [
    {
     "name": "stdout",
     "output_type": "stream",
     "text": [
      "<class 'pandas.core.frame.DataFrame'>\n",
      "RangeIndex: 77024 entries, 0 to 77023\n",
      "Data columns (total 11 columns):\n",
      " #   Column             Non-Null Count  Dtype \n",
      "---  ------             --------------  ----- \n",
      " 0   ANO                77024 non-null  int64 \n",
      " 1   MES                77024 non-null  int64 \n",
      " 2   SENADOR            77024 non-null  object\n",
      " 3   TIPO_DESPESA       77024 non-null  object\n",
      " 4   CNPJ_CPF           77024 non-null  object\n",
      " 5   FORNECEDOR         77024 non-null  object\n",
      " 6   DOCUMENTO          73979 non-null  object\n",
      " 7   DATA               77024 non-null  object\n",
      " 8   DETALHAMENTO       48395 non-null  object\n",
      " 9   VALOR_REEMBOLSADO  77024 non-null  object\n",
      " 10  COD_DOCUMENTO      77024 non-null  int64 \n",
      "dtypes: int64(3), object(8)\n",
      "memory usage: 6.5+ MB\n"
     ]
    }
   ],
   "source": [
    "ceaps.info()"
   ]
  },
  {
   "cell_type": "code",
   "execution_count": 116,
   "metadata": {},
   "outputs": [],
   "source": [
    "# As DETALHAMENTO col is per itself is not too much relevant we can only put a 'Non specified' value when it's NaN\n",
    "ceaps['DETALHAMENTO'].fillna('Não especificado.',inplace=True)"
   ]
  },
  {
   "cell_type": "code",
   "execution_count": 117,
   "metadata": {},
   "outputs": [],
   "source": [
    "# As we also have the COD_DOCUMENTO col we dont need this DOCUMENTO col\n",
    "ceaps.drop('DOCUMENTO',axis=1,inplace=True)"
   ]
  },
  {
   "cell_type": "code",
   "execution_count": 118,
   "metadata": {
    "scrolled": false
   },
   "outputs": [
    {
     "data": {
      "text/plain": [
       "WELLINGTON FAGUNDES     2489\n",
       "HUMBERTO COSTA          1999\n",
       "PAULO PAIM              1996\n",
       "CARLOS VIANA            1739\n",
       "JOSÉ SERRA              1728\n",
       "                        ... \n",
       "NEY SUASSUNA              15\n",
       "BLAIRO MAGGI               6\n",
       "SIQUEIRA CAMPOS            4\n",
       "VIRGINIO DE CARVALHO       3\n",
       "NAILDE PANTA               1\n",
       "Name: SENADOR, Length: 157, dtype: int64"
      ]
     },
     "execution_count": 118,
     "metadata": {},
     "output_type": "execute_result"
    }
   ],
   "source": [
    "ceaps['SENADOR'].value_counts()"
   ]
  },
  {
   "cell_type": "code",
   "execution_count": 119,
   "metadata": {
    "scrolled": false
   },
   "outputs": [
    {
     "name": "stdout",
     "output_type": "stream",
     "text": [
      "<class 'pandas.core.frame.DataFrame'>\n",
      "RangeIndex: 77024 entries, 0 to 77023\n",
      "Data columns (total 10 columns):\n",
      " #   Column             Non-Null Count  Dtype \n",
      "---  ------             --------------  ----- \n",
      " 0   ANO                77024 non-null  int64 \n",
      " 1   MES                77024 non-null  int64 \n",
      " 2   SENADOR            77024 non-null  object\n",
      " 3   TIPO_DESPESA       77024 non-null  object\n",
      " 4   CNPJ_CPF           77024 non-null  object\n",
      " 5   FORNECEDOR         77024 non-null  object\n",
      " 6   DATA               77024 non-null  object\n",
      " 7   DETALHAMENTO       77024 non-null  object\n",
      " 8   VALOR_REEMBOLSADO  77024 non-null  object\n",
      " 9   COD_DOCUMENTO      77024 non-null  int64 \n",
      "dtypes: int64(3), object(7)\n",
      "memory usage: 5.9+ MB\n"
     ]
    }
   ],
   "source": [
    "ceaps.info()"
   ]
  },
  {
   "cell_type": "code",
   "execution_count": 120,
   "metadata": {},
   "outputs": [],
   "source": [
    "# Changing VALOR_REEMBOLSADO from string to float and replacing it's commas to points\n",
    "ceaps['VALOR_REEMBOLSADO'] = ceaps['VALOR_REEMBOLSADO'].str.replace(',','.').astype(float)"
   ]
  },
  {
   "cell_type": "code",
   "execution_count": 121,
   "metadata": {},
   "outputs": [],
   "source": [
    "# Creates a col called DIA (day) where it haves the day coillected from DATA\n",
    "def get_day(date: str):\n",
    "    '''From a date (str) formated as dd/mm/yy return the day '''\n",
    "    parts = date.split('/')\n",
    "    return parts[0]\n",
    "ceaps['DIA'] = ceaps['DATA'].apply(lambda x: get_day(x))"
   ]
  },
  {
   "cell_type": "code",
   "execution_count": 122,
   "metadata": {},
   "outputs": [],
   "source": [
    "# Create a dictionary so I can use my DIA, MES and YEAR cols in to_datetime as a dictionary\n",
    "dict_date = {'day':ceaps['DIA'],'month':ceaps['MES'],'year':ceaps['ANO']}\n",
    "# Changing DATA from string to datetime\n",
    "ceaps['DATA'] = pd.to_datetime(dict_date,dayfirst=True,errors='coerce')"
   ]
  },
  {
   "cell_type": "code",
   "execution_count": 128,
   "metadata": {},
   "outputs": [
    {
     "data": {
      "text/plain": [
       "['ANO',\n",
       " 'MES',\n",
       " 'SENADOR',\n",
       " 'TIPO_DESPESA',\n",
       " 'CNPJ_CPF',\n",
       " 'FORNECEDOR',\n",
       " 'DATA',\n",
       " 'DETALHAMENTO',\n",
       " 'VALOR_REEMBOLSADO',\n",
       " 'COD_DOCUMENTO',\n",
       " 'DIA']"
      ]
     },
     "execution_count": 128,
     "metadata": {},
     "output_type": "execute_result"
    }
   ],
   "source": [
    "# NOW I'M TRYING TO REORDER MY COLS, TODO\n",
    "\n",
    "cols = ceaps.columns.to_list()\n",
    "cols"
   ]
  },
  {
   "cell_type": "code",
   "execution_count": 129,
   "metadata": {},
   "outputs": [
    {
     "ename": "TypeError",
     "evalue": "list indices must be integers or slices, not tuple",
     "output_type": "error",
     "traceback": [
      "\u001b[0;31m---------------------------------------------------------------------------\u001b[0m",
      "\u001b[0;31mTypeError\u001b[0m                                 Traceback (most recent call last)",
      "Input \u001b[0;32mIn [129]\u001b[0m, in \u001b[0;36m<cell line: 1>\u001b[0;34m()\u001b[0m\n\u001b[0;32m----> 1\u001b[0m \u001b[43mcols\u001b[49m\u001b[43m[\u001b[49m\u001b[38;5;241;43m-\u001b[39;49m\u001b[38;5;241;43m1\u001b[39;49m\u001b[43m,\u001b[49m\u001b[38;5;241;43m0\u001b[39;49m\u001b[43m:\u001b[49m\u001b[38;5;241;43m-\u001b[39;49m\u001b[38;5;241;43m1\u001b[39;49m\u001b[43m]\u001b[49m\n",
      "\u001b[0;31mTypeError\u001b[0m: list indices must be integers or slices, not tuple"
     ]
    }
   ],
   "source": [
    "cols[-1,0:-1]"
   ]
  },
  {
   "cell_type": "code",
   "execution_count": null,
   "metadata": {},
   "outputs": [],
   "source": []
  }
 ],
 "metadata": {
  "kernelspec": {
   "display_name": "Python 3 (ipykernel)",
   "language": "python",
   "name": "python3"
  },
  "language_info": {
   "codemirror_mode": {
    "name": "ipython",
    "version": 3
   },
   "file_extension": ".py",
   "mimetype": "text/x-python",
   "name": "python",
   "nbconvert_exporter": "python",
   "pygments_lexer": "ipython3",
   "version": "3.8.10"
  }
 },
 "nbformat": 4,
 "nbformat_minor": 4
}
